{
  "nbformat": 4,
  "nbformat_minor": 0,
  "metadata": {
    "colab": {
      "provenance": [],
      "mount_file_id": "1qnUTh9iV_tK7mDWtnnn3q5zSFAP6dbJ3",
      "authorship_tag": "ABX9TyP7K/fZL2/PIJijDWWAJjcd",
      "include_colab_link": true
    },
    "kernelspec": {
      "name": "python3",
      "display_name": "Python 3"
    },
    "language_info": {
      "name": "python"
    }
  },
  "cells": [
    {
      "cell_type": "markdown",
      "metadata": {
        "id": "view-in-github",
        "colab_type": "text"
      },
      "source": [
        "<a href=\"https://colab.research.google.com/github/mathewspmathew/pyspark_airquality/blob/main/project_airquality_seagmentation.ipynb\" target=\"_parent\"><img src=\"https://colab.research.google.com/assets/colab-badge.svg\" alt=\"Open In Colab\"/></a>"
      ]
    },
    {
      "cell_type": "markdown",
      "source": [
        "# Prediction of Air Qulity (CO) and Segamentation into categories\n",
        "\n",
        "*[Dataset link](https://archive.ics.uci.edu/dataset/360/air+quality)*\n",
        "\n",
        "- Here I have removed null and cleaned the data.\n",
        "- Then uses StandardScaler for doing Linear Regression. It predicts the target for the value of CO.\n",
        "- Also tried Random Forest Regressor with the same data. compared the rmse values.\n",
        "\n",
        "- Done segmantation to Good, Medium, Unhealthy and Danger. Used RandomForestClassifier for classification and evaluated by accuracy score"
      ],
      "metadata": {
        "id": "RzT5BYUSsW5p"
      }
    },
    {
      "cell_type": "code",
      "source": [],
      "metadata": {
        "id": "k0VmlCV7sT_E"
      },
      "execution_count": null,
      "outputs": []
    },
    {
      "cell_type": "code",
      "source": [
        "from pyspark.sql import SparkSession\n",
        "from pyspark.sql.functions import col,sum as spark_sum"
      ],
      "metadata": {
        "id": "TwoghTcGFow3"
      },
      "execution_count": 1,
      "outputs": []
    },
    {
      "cell_type": "code",
      "source": [
        "spark = SparkSession.builder.appName('airquality segmentation').getOrCreate()"
      ],
      "metadata": {
        "id": "j7jNJp8ZHMXK"
      },
      "execution_count": 2,
      "outputs": []
    },
    {
      "cell_type": "code",
      "source": [
        "spark"
      ],
      "metadata": {
        "colab": {
          "base_uri": "https://localhost:8080/",
          "height": 219
        },
        "id": "uS6soomsHX7J",
        "outputId": "910e6bbd-a63f-43b9-98a7-1afdf445d331"
      },
      "execution_count": 3,
      "outputs": [
        {
          "output_type": "execute_result",
          "data": {
            "text/plain": [
              "<pyspark.sql.session.SparkSession at 0x7834e163fbc0>"
            ],
            "text/html": [
              "\n",
              "            <div>\n",
              "                <p><b>SparkSession - in-memory</b></p>\n",
              "                \n",
              "        <div>\n",
              "            <p><b>SparkContext</b></p>\n",
              "\n",
              "            <p><a href=\"http://b6afea71c929:4040\">Spark UI</a></p>\n",
              "\n",
              "            <dl>\n",
              "              <dt>Version</dt>\n",
              "                <dd><code>v3.5.1</code></dd>\n",
              "              <dt>Master</dt>\n",
              "                <dd><code>local[*]</code></dd>\n",
              "              <dt>AppName</dt>\n",
              "                <dd><code>airquality segmentation</code></dd>\n",
              "            </dl>\n",
              "        </div>\n",
              "        \n",
              "            </div>\n",
              "        "
            ]
          },
          "metadata": {},
          "execution_count": 3
        }
      ]
    },
    {
      "cell_type": "code",
      "source": [
        "df = spark.read.csv('/content/drive/MyDrive/datasets for colab/AirQualityUCI.csv',header = True, inferSchema=True,sep = ';')"
      ],
      "metadata": {
        "id": "pPyrzBi5HYiX"
      },
      "execution_count": 4,
      "outputs": []
    },
    {
      "cell_type": "code",
      "source": [
        "df.show(3)"
      ],
      "metadata": {
        "colab": {
          "base_uri": "https://localhost:8080/"
        },
        "id": "fnP0_vNlHqt3",
        "outputId": "db5e7ab2-8cc3-4965-911c-ffb2bc7e1723"
      },
      "execution_count": 5,
      "outputs": [
        {
          "output_type": "stream",
          "name": "stdout",
          "text": [
            "+----------+--------+------+-----------+--------+--------+-------------+-------+------------+-------+------------+-----------+----+----+------+----+----+\n",
            "|      Date|    Time|CO(GT)|PT08.S1(CO)|NMHC(GT)|C6H6(GT)|PT08.S2(NMHC)|NOx(GT)|PT08.S3(NOx)|NO2(GT)|PT08.S4(NO2)|PT08.S5(O3)|   T|  RH|    AH|_c15|_c16|\n",
            "+----------+--------+------+-----------+--------+--------+-------------+-------+------------+-------+------------+-----------+----+----+------+----+----+\n",
            "|10/03/2004|18.00.00|   2,6|       1360|     150|    11,9|         1046|    166|        1056|    113|        1692|       1268|13,6|48,9|0,7578|NULL|NULL|\n",
            "|10/03/2004|19.00.00|     2|       1292|     112|     9,4|          955|    103|        1174|     92|        1559|        972|13,3|47,7|0,7255|NULL|NULL|\n",
            "|10/03/2004|20.00.00|   2,2|       1402|      88|     9,0|          939|    131|        1140|    114|        1555|       1074|11,9|54,0|0,7502|NULL|NULL|\n",
            "+----------+--------+------+-----------+--------+--------+-------------+-------+------------+-------+------------+-----------+----+----+------+----+----+\n",
            "only showing top 3 rows\n",
            "\n"
          ]
        }
      ]
    },
    {
      "cell_type": "code",
      "source": [
        "# df = df.withColumnsRenamed({'CO(GT)':'CO_GT',\n",
        "#                             'PT08.S1(CO)':'PT08_S1_CO',\n",
        "#                            'PT08.S2(NMHC)':'PT08_S2_NMHC_',\n",
        "#                            'PT08.S3(NOx)':'PT08_S3(NOx)',\n",
        "#                            'PT08.S4(NO2)':'PT08_S4(NO2)',\n",
        "#                            'PT08.S5(O3)':'PT08_S5(O3)',\n",
        "#                            })"
      ],
      "metadata": {
        "id": "aTyT2H-RMhGF"
      },
      "execution_count": 6,
      "outputs": []
    },
    {
      "cell_type": "code",
      "source": [
        "import re\n",
        "\n",
        "def clean_column_name(name: str) -> str:\n",
        "    return re.sub(r'[^a-zA-Z0-9]', '_', name)\n",
        "\n",
        "df = df.toDF(*[clean_column_name(c) for c in df.columns])\n",
        "\n",
        "# this replaces all non-alphanumeric characters with underscore\n",
        "# and renaming all columns also"
      ],
      "metadata": {
        "id": "i3y0hgNwOSck"
      },
      "execution_count": 7,
      "outputs": []
    },
    {
      "cell_type": "code",
      "source": [
        "df.show(2)"
      ],
      "metadata": {
        "colab": {
          "base_uri": "https://localhost:8080/"
        },
        "id": "yzTAvPA0OT4Y",
        "outputId": "641748f8-e0e3-4fb8-a935-75cb1a6d1d1b"
      },
      "execution_count": 8,
      "outputs": [
        {
          "output_type": "stream",
          "name": "stdout",
          "text": [
            "+----------+--------+------+-----------+--------+--------+-------------+-------+------------+-------+------------+-----------+----+----+------+----+----+\n",
            "|      Date|    Time|CO_GT_|PT08_S1_CO_|NMHC_GT_|C6H6_GT_|PT08_S2_NMHC_|NOx_GT_|PT08_S3_NOx_|NO2_GT_|PT08_S4_NO2_|PT08_S5_O3_|   T|  RH|    AH|_c15|_c16|\n",
            "+----------+--------+------+-----------+--------+--------+-------------+-------+------------+-------+------------+-----------+----+----+------+----+----+\n",
            "|10/03/2004|18.00.00|   2,6|       1360|     150|    11,9|         1046|    166|        1056|    113|        1692|       1268|13,6|48,9|0,7578|NULL|NULL|\n",
            "|10/03/2004|19.00.00|     2|       1292|     112|     9,4|          955|    103|        1174|     92|        1559|        972|13,3|47,7|0,7255|NULL|NULL|\n",
            "+----------+--------+------+-----------+--------+--------+-------------+-------+------------+-------+------------+-----------+----+----+------+----+----+\n",
            "only showing top 2 rows\n",
            "\n"
          ]
        }
      ]
    },
    {
      "cell_type": "code",
      "source": [
        "df.printSchema()"
      ],
      "metadata": {
        "colab": {
          "base_uri": "https://localhost:8080/"
        },
        "id": "LUyEvwC4XSdY",
        "outputId": "7f9426bb-4519-4e8a-d71c-e9bcaab69bb1"
      },
      "execution_count": 9,
      "outputs": [
        {
          "output_type": "stream",
          "name": "stdout",
          "text": [
            "root\n",
            " |-- Date: string (nullable = true)\n",
            " |-- Time: string (nullable = true)\n",
            " |-- CO_GT_: string (nullable = true)\n",
            " |-- PT08_S1_CO_: integer (nullable = true)\n",
            " |-- NMHC_GT_: integer (nullable = true)\n",
            " |-- C6H6_GT_: string (nullable = true)\n",
            " |-- PT08_S2_NMHC_: integer (nullable = true)\n",
            " |-- NOx_GT_: integer (nullable = true)\n",
            " |-- PT08_S3_NOx_: integer (nullable = true)\n",
            " |-- NO2_GT_: integer (nullable = true)\n",
            " |-- PT08_S4_NO2_: integer (nullable = true)\n",
            " |-- PT08_S5_O3_: integer (nullable = true)\n",
            " |-- T: string (nullable = true)\n",
            " |-- RH: string (nullable = true)\n",
            " |-- AH: string (nullable = true)\n",
            " |-- _c15: string (nullable = true)\n",
            " |-- _c16: string (nullable = true)\n",
            "\n"
          ]
        }
      ]
    },
    {
      "cell_type": "code",
      "source": [
        "from pyspark.sql.functions import regexp_replace, col\n",
        "\n",
        "numeric_cols = [\"T\", \"RH\", \"CO_GT_\"]\n",
        "for c in numeric_cols:\n",
        "    df = df.withColumn(c, regexp_replace(col(c), \",\", \".\").cast(\"double\"))\n",
        "\n",
        "df.show(5)\n",
        "df.printSchema()\n"
      ],
      "metadata": {
        "colab": {
          "base_uri": "https://localhost:8080/"
        },
        "id": "p-XiwIeuX47U",
        "outputId": "1b36a189-b551-4a2f-c5f4-1edb0c53b020"
      },
      "execution_count": 10,
      "outputs": [
        {
          "output_type": "stream",
          "name": "stdout",
          "text": [
            "+----------+--------+------+-----------+--------+--------+-------------+-------+------------+-------+------------+-----------+----+----+------+----+----+\n",
            "|      Date|    Time|CO_GT_|PT08_S1_CO_|NMHC_GT_|C6H6_GT_|PT08_S2_NMHC_|NOx_GT_|PT08_S3_NOx_|NO2_GT_|PT08_S4_NO2_|PT08_S5_O3_|   T|  RH|    AH|_c15|_c16|\n",
            "+----------+--------+------+-----------+--------+--------+-------------+-------+------------+-------+------------+-----------+----+----+------+----+----+\n",
            "|10/03/2004|18.00.00|   2.6|       1360|     150|    11,9|         1046|    166|        1056|    113|        1692|       1268|13.6|48.9|0,7578|NULL|NULL|\n",
            "|10/03/2004|19.00.00|   2.0|       1292|     112|     9,4|          955|    103|        1174|     92|        1559|        972|13.3|47.7|0,7255|NULL|NULL|\n",
            "|10/03/2004|20.00.00|   2.2|       1402|      88|     9,0|          939|    131|        1140|    114|        1555|       1074|11.9|54.0|0,7502|NULL|NULL|\n",
            "|10/03/2004|21.00.00|   2.2|       1376|      80|     9,2|          948|    172|        1092|    122|        1584|       1203|11.0|60.0|0,7867|NULL|NULL|\n",
            "|10/03/2004|22.00.00|   1.6|       1272|      51|     6,5|          836|    131|        1205|    116|        1490|       1110|11.2|59.6|0,7888|NULL|NULL|\n",
            "+----------+--------+------+-----------+--------+--------+-------------+-------+------------+-------+------------+-----------+----+----+------+----+----+\n",
            "only showing top 5 rows\n",
            "\n",
            "root\n",
            " |-- Date: string (nullable = true)\n",
            " |-- Time: string (nullable = true)\n",
            " |-- CO_GT_: double (nullable = true)\n",
            " |-- PT08_S1_CO_: integer (nullable = true)\n",
            " |-- NMHC_GT_: integer (nullable = true)\n",
            " |-- C6H6_GT_: string (nullable = true)\n",
            " |-- PT08_S2_NMHC_: integer (nullable = true)\n",
            " |-- NOx_GT_: integer (nullable = true)\n",
            " |-- PT08_S3_NOx_: integer (nullable = true)\n",
            " |-- NO2_GT_: integer (nullable = true)\n",
            " |-- PT08_S4_NO2_: integer (nullable = true)\n",
            " |-- PT08_S5_O3_: integer (nullable = true)\n",
            " |-- T: double (nullable = true)\n",
            " |-- RH: double (nullable = true)\n",
            " |-- AH: string (nullable = true)\n",
            " |-- _c15: string (nullable = true)\n",
            " |-- _c16: string (nullable = true)\n",
            "\n"
          ]
        }
      ]
    },
    {
      "cell_type": "code",
      "source": [
        "null_counts = df.select([spark_sum(col(c).isNull().cast('int')).alias(c) for c in df.columns])"
      ],
      "metadata": {
        "id": "5dfkj90JImNH"
      },
      "execution_count": 11,
      "outputs": []
    },
    {
      "cell_type": "code",
      "source": [
        "null_counts.show()"
      ],
      "metadata": {
        "colab": {
          "base_uri": "https://localhost:8080/"
        },
        "id": "8AWaogJgIoWm",
        "outputId": "bbacbc41-a1e3-479b-e552-b9d2e0644db1"
      },
      "execution_count": 12,
      "outputs": [
        {
          "output_type": "stream",
          "name": "stdout",
          "text": [
            "+----+----+------+-----------+--------+--------+-------------+-------+------------+-------+------------+-----------+---+---+---+----+----+\n",
            "|Date|Time|CO_GT_|PT08_S1_CO_|NMHC_GT_|C6H6_GT_|PT08_S2_NMHC_|NOx_GT_|PT08_S3_NOx_|NO2_GT_|PT08_S4_NO2_|PT08_S5_O3_|  T| RH| AH|_c15|_c16|\n",
            "+----+----+------+-----------+--------+--------+-------------+-------+------------+-------+------------+-----------+---+---+---+----+----+\n",
            "| 114| 114|   114|        114|     114|     114|          114|    114|         114|    114|         114|        114|114|114|114|9471|9471|\n",
            "+----+----+------+-----------+--------+--------+-------------+-------+------------+-------+------------+-----------+---+---+---+----+----+\n",
            "\n"
          ]
        }
      ]
    },
    {
      "cell_type": "code",
      "source": [
        "df.count()"
      ],
      "metadata": {
        "colab": {
          "base_uri": "https://localhost:8080/"
        },
        "id": "NYVcR6LrIpxl",
        "outputId": "0a8f6fa4-3f9d-422a-b417-e3c09d7a5888"
      },
      "execution_count": 13,
      "outputs": [
        {
          "output_type": "execute_result",
          "data": {
            "text/plain": [
              "9471"
            ]
          },
          "metadata": {},
          "execution_count": 13
        }
      ]
    },
    {
      "cell_type": "code",
      "source": [
        "df = df.drop('_c15','_c16')"
      ],
      "metadata": {
        "id": "FcH1nqrhO2_P"
      },
      "execution_count": 14,
      "outputs": []
    },
    {
      "cell_type": "code",
      "source": [
        "df_needed = df.select('PT08_S1_CO_','PT08_S2_NMHC_','PT08_S3_NOx_','PT08_S4_NO2_','PT08_S5_O3_','T','RH','CO_GT_')"
      ],
      "metadata": {
        "id": "hp_-TgBPV3Jq"
      },
      "execution_count": 15,
      "outputs": []
    },
    {
      "cell_type": "code",
      "source": [
        "df_needed.show(2)"
      ],
      "metadata": {
        "colab": {
          "base_uri": "https://localhost:8080/"
        },
        "id": "1uSexMdSWEy3",
        "outputId": "90951c0f-e2bc-4e18-c62b-1718a8a3c7d6"
      },
      "execution_count": 16,
      "outputs": [
        {
          "output_type": "stream",
          "name": "stdout",
          "text": [
            "+-----------+-------------+------------+------------+-----------+----+----+------+\n",
            "|PT08_S1_CO_|PT08_S2_NMHC_|PT08_S3_NOx_|PT08_S4_NO2_|PT08_S5_O3_|   T|  RH|CO_GT_|\n",
            "+-----------+-------------+------------+------------+-----------+----+----+------+\n",
            "|       1360|         1046|        1056|        1692|       1268|13.6|48.9|   2.6|\n",
            "|       1292|          955|        1174|        1559|        972|13.3|47.7|   2.0|\n",
            "+-----------+-------------+------------+------------+-----------+----+----+------+\n",
            "only showing top 2 rows\n",
            "\n"
          ]
        }
      ]
    },
    {
      "cell_type": "code",
      "source": [
        "df_needed.count()"
      ],
      "metadata": {
        "colab": {
          "base_uri": "https://localhost:8080/"
        },
        "id": "b7iE4cwYWIck",
        "outputId": "b7965a57-3bea-47ec-9cfe-4ecc742de78a"
      },
      "execution_count": 17,
      "outputs": [
        {
          "output_type": "execute_result",
          "data": {
            "text/plain": [
              "9471"
            ]
          },
          "metadata": {},
          "execution_count": 17
        }
      ]
    },
    {
      "cell_type": "code",
      "source": [],
      "metadata": {
        "id": "XRIhwHevPH3l"
      },
      "execution_count": 17,
      "outputs": []
    },
    {
      "cell_type": "markdown",
      "source": [
        "Selecting the needed features"
      ],
      "metadata": {
        "id": "u9qMCIYLxACf"
      }
    },
    {
      "cell_type": "code",
      "source": [
        "features = ['PT08_S1_CO_','PT08_S2_NMHC_','PT08_S3_NOx_','PT08_S4_NO2_','PT08_S5_O3_','T','RH']\n",
        "target = 'CO_GT_'"
      ],
      "metadata": {
        "id": "ZA6kFbdYR4bG"
      },
      "execution_count": 18,
      "outputs": []
    },
    {
      "cell_type": "code",
      "source": [
        "df_needed = df_needed.select([col(c).cast('double') for c in features+[target]])"
      ],
      "metadata": {
        "id": "3MLlr8s0R4ss"
      },
      "execution_count": 19,
      "outputs": []
    },
    {
      "cell_type": "code",
      "source": [
        "df_needed.show(5)"
      ],
      "metadata": {
        "colab": {
          "base_uri": "https://localhost:8080/"
        },
        "id": "SQPQIU_UUZKY",
        "outputId": "1eab8763-4ab8-4eeb-c54f-ec990ec9e124"
      },
      "execution_count": 20,
      "outputs": [
        {
          "output_type": "stream",
          "name": "stdout",
          "text": [
            "+-----------+-------------+------------+------------+-----------+----+----+------+\n",
            "|PT08_S1_CO_|PT08_S2_NMHC_|PT08_S3_NOx_|PT08_S4_NO2_|PT08_S5_O3_|   T|  RH|CO_GT_|\n",
            "+-----------+-------------+------------+------------+-----------+----+----+------+\n",
            "|     1360.0|       1046.0|      1056.0|      1692.0|     1268.0|13.6|48.9|   2.6|\n",
            "|     1292.0|        955.0|      1174.0|      1559.0|      972.0|13.3|47.7|   2.0|\n",
            "|     1402.0|        939.0|      1140.0|      1555.0|     1074.0|11.9|54.0|   2.2|\n",
            "|     1376.0|        948.0|      1092.0|      1584.0|     1203.0|11.0|60.0|   2.2|\n",
            "|     1272.0|        836.0|      1205.0|      1490.0|     1110.0|11.2|59.6|   1.6|\n",
            "+-----------+-------------+------------+------------+-----------+----+----+------+\n",
            "only showing top 5 rows\n",
            "\n"
          ]
        }
      ]
    },
    {
      "cell_type": "code",
      "source": [
        "df_needed.count()"
      ],
      "metadata": {
        "colab": {
          "base_uri": "https://localhost:8080/"
        },
        "id": "NdBFjqrQUbf0",
        "outputId": "57c9a56e-0a7d-4b34-a0ad-0dc4582aab39"
      },
      "execution_count": 21,
      "outputs": [
        {
          "output_type": "execute_result",
          "data": {
            "text/plain": [
              "9471"
            ]
          },
          "metadata": {},
          "execution_count": 21
        }
      ]
    },
    {
      "cell_type": "code",
      "source": [
        "null_counts = df_needed.select([spark_sum(col(c).isNull().cast('int')).alias(c) for c in df_needed.columns])\n",
        "null_counts.show()"
      ],
      "metadata": {
        "colab": {
          "base_uri": "https://localhost:8080/"
        },
        "id": "U4oENCDRWg3D",
        "outputId": "12d04fb6-6e0a-40a6-a4bd-bcc745d3dd7e"
      },
      "execution_count": 22,
      "outputs": [
        {
          "output_type": "stream",
          "name": "stdout",
          "text": [
            "+-----------+-------------+------------+------------+-----------+---+---+------+\n",
            "|PT08_S1_CO_|PT08_S2_NMHC_|PT08_S3_NOx_|PT08_S4_NO2_|PT08_S5_O3_|  T| RH|CO_GT_|\n",
            "+-----------+-------------+------------+------------+-----------+---+---+------+\n",
            "|        114|          114|         114|         114|        114|114|114|   114|\n",
            "+-----------+-------------+------------+------------+-----------+---+---+------+\n",
            "\n"
          ]
        }
      ]
    },
    {
      "cell_type": "code",
      "source": [
        "df_needed.printSchema()"
      ],
      "metadata": {
        "colab": {
          "base_uri": "https://localhost:8080/"
        },
        "id": "zzaoL-eIWgiI",
        "outputId": "4845f5ae-77a9-4b50-c44f-3fdb0196e1ff"
      },
      "execution_count": 23,
      "outputs": [
        {
          "output_type": "stream",
          "name": "stdout",
          "text": [
            "root\n",
            " |-- PT08_S1_CO_: double (nullable = true)\n",
            " |-- PT08_S2_NMHC_: double (nullable = true)\n",
            " |-- PT08_S3_NOx_: double (nullable = true)\n",
            " |-- PT08_S4_NO2_: double (nullable = true)\n",
            " |-- PT08_S5_O3_: double (nullable = true)\n",
            " |-- T: double (nullable = true)\n",
            " |-- RH: double (nullable = true)\n",
            " |-- CO_GT_: double (nullable = true)\n",
            "\n"
          ]
        }
      ]
    },
    {
      "cell_type": "code",
      "source": [],
      "metadata": {
        "id": "_uQS8lOXWf0V"
      },
      "execution_count": 23,
      "outputs": []
    },
    {
      "cell_type": "code",
      "source": [
        "df_needed =df_needed.na.drop()"
      ],
      "metadata": {
        "id": "xALiolV1SSHF"
      },
      "execution_count": 24,
      "outputs": []
    },
    {
      "cell_type": "code",
      "source": [
        "df_needed.show(5)"
      ],
      "metadata": {
        "colab": {
          "base_uri": "https://localhost:8080/"
        },
        "id": "zyBSIzUpSUmF",
        "outputId": "84a323a0-92a8-45aa-cc48-2c28402c8231"
      },
      "execution_count": 25,
      "outputs": [
        {
          "output_type": "stream",
          "name": "stdout",
          "text": [
            "+-----------+-------------+------------+------------+-----------+----+----+------+\n",
            "|PT08_S1_CO_|PT08_S2_NMHC_|PT08_S3_NOx_|PT08_S4_NO2_|PT08_S5_O3_|   T|  RH|CO_GT_|\n",
            "+-----------+-------------+------------+------------+-----------+----+----+------+\n",
            "|     1360.0|       1046.0|      1056.0|      1692.0|     1268.0|13.6|48.9|   2.6|\n",
            "|     1292.0|        955.0|      1174.0|      1559.0|      972.0|13.3|47.7|   2.0|\n",
            "|     1402.0|        939.0|      1140.0|      1555.0|     1074.0|11.9|54.0|   2.2|\n",
            "|     1376.0|        948.0|      1092.0|      1584.0|     1203.0|11.0|60.0|   2.2|\n",
            "|     1272.0|        836.0|      1205.0|      1490.0|     1110.0|11.2|59.6|   1.6|\n",
            "+-----------+-------------+------------+------------+-----------+----+----+------+\n",
            "only showing top 5 rows\n",
            "\n"
          ]
        }
      ]
    },
    {
      "cell_type": "code",
      "source": [
        "df_needed.count()"
      ],
      "metadata": {
        "colab": {
          "base_uri": "https://localhost:8080/"
        },
        "id": "7NWiJyeTSWbZ",
        "outputId": "44e6655b-a697-49aa-ccee-ac44224ab502"
      },
      "execution_count": 26,
      "outputs": [
        {
          "output_type": "execute_result",
          "data": {
            "text/plain": [
              "9357"
            ]
          },
          "metadata": {},
          "execution_count": 26
        }
      ]
    },
    {
      "cell_type": "code",
      "source": [],
      "metadata": {
        "id": "PUVPkiWXTvoF"
      },
      "execution_count": 26,
      "outputs": []
    },
    {
      "cell_type": "code",
      "source": [],
      "metadata": {
        "id": "SIWPKbeTUCbW"
      },
      "execution_count": 26,
      "outputs": []
    },
    {
      "cell_type": "markdown",
      "source": [
        "# MLlib Linear Regression Model (Predict CO Level)"
      ],
      "metadata": {
        "id": "oJMbQ42nY8bC"
      }
    },
    {
      "cell_type": "code",
      "source": [
        "from pyspark.ml.feature import VectorAssembler, StandardScaler\n",
        "from pyspark.ml.regression import LinearRegression\n",
        "from pyspark.ml.evaluation import RegressionEvaluator"
      ],
      "metadata": {
        "id": "V1zLOxsvY9_C"
      },
      "execution_count": 95,
      "outputs": []
    },
    {
      "cell_type": "code",
      "source": [
        "features = ['PT08_S1_CO_','PT08_S2_NMHC_','PT08_S3_NOx_','PT08_S4_NO2_','PT08_S5_O3_','T','RH']\n",
        "target = 'CO_GT_'"
      ],
      "metadata": {
        "id": "tYChkK8cSHDI"
      },
      "execution_count": 28,
      "outputs": []
    },
    {
      "cell_type": "code",
      "source": [
        "assembler = VectorAssembler(inputCols=features,outputCol='feature_assembled')"
      ],
      "metadata": {
        "id": "JEMMxZ9bT45i"
      },
      "execution_count": 81,
      "outputs": []
    },
    {
      "cell_type": "code",
      "source": [
        "df2 = assembler.transform(df_needed)"
      ],
      "metadata": {
        "id": "pFIs-dONVK10"
      },
      "execution_count": 101,
      "outputs": []
    },
    {
      "cell_type": "code",
      "source": [
        "df2 = df2.select('feature_assembled','CO_GT_')"
      ],
      "metadata": {
        "id": "x2cZpqKAVQjG"
      },
      "execution_count": 102,
      "outputs": []
    },
    {
      "cell_type": "code",
      "source": [
        "df2.show(2)"
      ],
      "metadata": {
        "id": "65KiaA5KVUtG",
        "colab": {
          "base_uri": "https://localhost:8080/"
        },
        "outputId": "c011e139-53e0-4709-aad0-a759cb398e0a"
      },
      "execution_count": 103,
      "outputs": [
        {
          "output_type": "stream",
          "name": "stdout",
          "text": [
            "+--------------------+------+\n",
            "|   feature_assembled|CO_GT_|\n",
            "+--------------------+------+\n",
            "|[1360.0,1046.0,10...|   2.6|\n",
            "|[1292.0,955.0,117...|   2.0|\n",
            "+--------------------+------+\n",
            "only showing top 2 rows\n",
            "\n"
          ]
        }
      ]
    },
    {
      "cell_type": "code",
      "source": [
        "df2.count()"
      ],
      "metadata": {
        "colab": {
          "base_uri": "https://localhost:8080/"
        },
        "id": "hDiU4HJlpqkn",
        "outputId": "310ce378-98c2-42ea-9d1a-15611bc5a799"
      },
      "execution_count": 104,
      "outputs": [
        {
          "output_type": "execute_result",
          "data": {
            "text/plain": [
              "9357"
            ]
          },
          "metadata": {},
          "execution_count": 104
        }
      ]
    },
    {
      "cell_type": "markdown",
      "source": [
        "Removing the -200 values because in this air quality dataset.\n",
        "\n",
        "missing values are encoded as -200.0 instead of NaN\n",
        "So Spark is treating -200.0 as real sensor readings."
      ],
      "metadata": {
        "id": "AJKqfwWoxMSM"
      }
    },
    {
      "cell_type": "code",
      "source": [
        "for c in features+[target]:\n",
        "    df2 = df2.filter(col(c) != -200)\n",
        "\n",
        "df2.show(5)"
      ],
      "metadata": {
        "colab": {
          "base_uri": "https://localhost:8080/"
        },
        "id": "oxUYse4boPro",
        "outputId": "d9786056-d086-4146-bd1c-2fbd354191ed"
      },
      "execution_count": 105,
      "outputs": [
        {
          "output_type": "stream",
          "name": "stdout",
          "text": [
            "+--------------------+------+\n",
            "|   feature_assembled|CO_GT_|\n",
            "+--------------------+------+\n",
            "|[1360.0,1046.0,10...|   2.6|\n",
            "|[1292.0,955.0,117...|   2.0|\n",
            "|[1402.0,939.0,114...|   2.2|\n",
            "|[1376.0,948.0,109...|   2.2|\n",
            "|[1272.0,836.0,120...|   1.6|\n",
            "+--------------------+------+\n",
            "only showing top 5 rows\n",
            "\n"
          ]
        }
      ]
    },
    {
      "cell_type": "code",
      "source": [
        "df2.count()"
      ],
      "metadata": {
        "colab": {
          "base_uri": "https://localhost:8080/"
        },
        "id": "ns-EtT-Jo1oM",
        "outputId": "7fbeb06e-b1dc-4a84-9e04-104dd5074a48"
      },
      "execution_count": 106,
      "outputs": [
        {
          "output_type": "execute_result",
          "data": {
            "text/plain": [
              "7344"
            ]
          },
          "metadata": {},
          "execution_count": 106
        }
      ]
    },
    {
      "cell_type": "code",
      "source": [
        "scaler = StandardScaler(inputCol=\"feature_assembled\", outputCol=\"scaled_features\", withMean=True, withStd=True)"
      ],
      "metadata": {
        "id": "wdmPL7MnoPZ6"
      },
      "execution_count": 107,
      "outputs": []
    },
    {
      "cell_type": "code",
      "source": [
        "df2 = scaler.fit(df2).transform(df2).select('scaled_features','CO_GT_')"
      ],
      "metadata": {
        "id": "cpW3La4ToPGX"
      },
      "execution_count": 108,
      "outputs": []
    },
    {
      "cell_type": "code",
      "source": [
        "df2.show(2)"
      ],
      "metadata": {
        "colab": {
          "base_uri": "https://localhost:8080/"
        },
        "id": "fJfoo3IqqPt2",
        "outputId": "bf37235c-ec49-4195-c64a-0526292a8e2b"
      },
      "execution_count": 109,
      "outputs": [
        {
          "output_type": "stream",
          "name": "stdout",
          "text": [
            "+--------------------+------+\n",
            "|     scaled_features|CO_GT_|\n",
            "+--------------------+------+\n",
            "|[1.14056034018174...|   2.6|\n",
            "|[0.82960558449708...|   2.0|\n",
            "+--------------------+------+\n",
            "only showing top 2 rows\n",
            "\n"
          ]
        }
      ]
    },
    {
      "cell_type": "code",
      "source": [],
      "metadata": {
        "id": "EYcdlZvMqQJV"
      },
      "execution_count": null,
      "outputs": []
    },
    {
      "cell_type": "code",
      "source": [
        "df_train,df_test = df2.randomSplit([0.8,0.2],seed = 42)"
      ],
      "metadata": {
        "id": "18w7FA1qycjd"
      },
      "execution_count": 110,
      "outputs": []
    },
    {
      "cell_type": "code",
      "source": [
        "df_train.show(2)"
      ],
      "metadata": {
        "colab": {
          "base_uri": "https://localhost:8080/"
        },
        "id": "SdDskSAmnftL",
        "outputId": "cdcbf3dd-7d05-42ea-c54a-eb288125b2dc"
      },
      "execution_count": 121,
      "outputs": [
        {
          "output_type": "stream",
          "name": "stdout",
          "text": [
            "+--------------------+------+\n",
            "|     scaled_features|CO_GT_|\n",
            "+--------------------+------+\n",
            "|[-2.1198917304530...|   0.3|\n",
            "|[-2.1107460023446...|   0.2|\n",
            "+--------------------+------+\n",
            "only showing top 2 rows\n",
            "\n"
          ]
        }
      ]
    },
    {
      "cell_type": "code",
      "source": [
        "lr = LinearRegression(featuresCol='scaled_features',labelCol='CO_GT_')"
      ],
      "metadata": {
        "id": "Z_0781EWy8Uf"
      },
      "execution_count": 114,
      "outputs": []
    },
    {
      "cell_type": "code",
      "source": [
        "model = lr.fit(df_train)"
      ],
      "metadata": {
        "id": "5dHKardizLt8"
      },
      "execution_count": 115,
      "outputs": []
    },
    {
      "cell_type": "code",
      "source": [
        "pred = model.transform(df_test)"
      ],
      "metadata": {
        "id": "1bRvWJeKzRKM"
      },
      "execution_count": 116,
      "outputs": []
    },
    {
      "cell_type": "code",
      "source": [],
      "metadata": {
        "id": "qf5xRmKBzXWL"
      },
      "execution_count": 36,
      "outputs": []
    },
    {
      "cell_type": "code",
      "source": [
        "pred.show(3)"
      ],
      "metadata": {
        "colab": {
          "base_uri": "https://localhost:8080/"
        },
        "id": "03N3gvE-znQL",
        "outputId": "2a29a672-77e6-4c57-9e0c-c159611a99eb"
      },
      "execution_count": 117,
      "outputs": [
        {
          "output_type": "stream",
          "name": "stdout",
          "text": [
            "+--------------------+------+--------------------+\n",
            "|     scaled_features|CO_GT_|          prediction|\n",
            "+--------------------+------+--------------------+\n",
            "|[-2.0833088180195...|   0.2| 0.02501156026307516|\n",
            "|[-2.0192887212609...|   0.4|-0.04091277157138862|\n",
            "|[-1.9781329447732...|   0.3|-0.02492848966375316|\n",
            "+--------------------+------+--------------------+\n",
            "only showing top 3 rows\n",
            "\n"
          ]
        }
      ]
    },
    {
      "cell_type": "code",
      "source": [
        "evaluator = RegressionEvaluator(predictionCol='prediction',labelCol='CO_GT_',metricName='rmse')"
      ],
      "metadata": {
        "id": "_gAz6PsQzagc"
      },
      "execution_count": 118,
      "outputs": []
    },
    {
      "cell_type": "code",
      "source": [
        "rmse = evaluator.evaluate(pred)"
      ],
      "metadata": {
        "id": "V89OWKwBz-t8"
      },
      "execution_count": 119,
      "outputs": []
    },
    {
      "cell_type": "code",
      "source": [
        "rmse"
      ],
      "metadata": {
        "colab": {
          "base_uri": "https://localhost:8080/"
        },
        "id": "yqmSkMDs0EaL",
        "outputId": "c27c0c14-4189-45d0-b041-fba9bcdc1aa8"
      },
      "execution_count": 120,
      "outputs": [
        {
          "output_type": "execute_result",
          "data": {
            "text/plain": [
              "0.49086031980801925"
            ]
          },
          "metadata": {},
          "execution_count": 120
        }
      ]
    },
    {
      "cell_type": "code",
      "source": [],
      "metadata": {
        "id": "5ge_sTI30Rvr"
      },
      "execution_count": 40,
      "outputs": []
    },
    {
      "cell_type": "markdown",
      "source": [
        "# Trying with more robust model - Random Forest Regressor"
      ],
      "metadata": {
        "id": "ucWPLbJDq8nQ"
      }
    },
    {
      "cell_type": "code",
      "source": [
        "from pyspark.ml.regression import RandomForestRegressor"
      ],
      "metadata": {
        "id": "rYXvLKvRFgO_"
      },
      "execution_count": 122,
      "outputs": []
    },
    {
      "cell_type": "code",
      "source": [
        "rf = RandomForestRegressor(featuresCol=\"scaled_features\", labelCol=\"CO_GT_\", numTrees=100)\n"
      ],
      "metadata": {
        "id": "IQDirVo3q7hV"
      },
      "execution_count": 123,
      "outputs": []
    },
    {
      "cell_type": "code",
      "source": [
        "rf_model = rf.fit(df_train)\n",
        "pred = rf_model.transform(df_test)\n"
      ],
      "metadata": {
        "id": "nMgFrsnwq76l"
      },
      "execution_count": 124,
      "outputs": []
    },
    {
      "cell_type": "code",
      "source": [
        "evaluator = RegressionEvaluator(predictionCol='prediction',labelCol='CO_GT_',metricName='rmse')"
      ],
      "metadata": {
        "id": "EyvWNg14rNj1"
      },
      "execution_count": 126,
      "outputs": []
    },
    {
      "cell_type": "code",
      "source": [
        "rmse_rf = evaluator.evaluate(pred)"
      ],
      "metadata": {
        "id": "P5VkpgJ9rN16"
      },
      "execution_count": 129,
      "outputs": []
    },
    {
      "cell_type": "code",
      "source": [
        "print('rmse of random forest : ',rmse_rf)"
      ],
      "metadata": {
        "colab": {
          "base_uri": "https://localhost:8080/"
        },
        "id": "ji7PQqlurOMF",
        "outputId": "dea64053-5eb3-494f-c412-9a46a2099813"
      },
      "execution_count": 131,
      "outputs": [
        {
          "output_type": "stream",
          "name": "stdout",
          "text": [
            "rmse of random forest :  0.48423802190534515\n"
          ]
        }
      ]
    },
    {
      "cell_type": "code",
      "source": [],
      "metadata": {
        "id": "DhEsyM21sAw1"
      },
      "execution_count": null,
      "outputs": []
    },
    {
      "cell_type": "markdown",
      "source": [
        "# Classification (Good, Moderate, Unhealthy)"
      ],
      "metadata": {
        "id": "fWwi8_muFg8v"
      }
    },
    {
      "cell_type": "code",
      "source": [
        "from pyspark.sql.functions import when"
      ],
      "metadata": {
        "id": "0-qL3eMWFotg"
      },
      "execution_count": 41,
      "outputs": []
    },
    {
      "cell_type": "code",
      "source": [
        "df3 = df_needed.withColumn(\n",
        "    'Category',\n",
        "    when(col('CO_GT_') < 2, 'Good')\n",
        "    .when(col('CO_GT_') <= 5, 'Moderate')\n",
        "    .when(col('CO_GT_') <= 10, 'Unhealthy')\n",
        "    .otherwise('Danger')\n",
        ")"
      ],
      "metadata": {
        "id": "hGPlDOjqFq8Q"
      },
      "execution_count": 42,
      "outputs": []
    },
    {
      "cell_type": "code",
      "source": [
        "df3.show()"
      ],
      "metadata": {
        "colab": {
          "base_uri": "https://localhost:8080/"
        },
        "id": "y3QuioUxGSyu",
        "outputId": "f398aadb-e6fc-4c1f-bb20-ad2556c0c79b"
      },
      "execution_count": 43,
      "outputs": [
        {
          "output_type": "stream",
          "name": "stdout",
          "text": [
            "+-----------+-------------+------------+------------+-----------+----+----+------+--------+\n",
            "|PT08_S1_CO_|PT08_S2_NMHC_|PT08_S3_NOx_|PT08_S4_NO2_|PT08_S5_O3_|   T|  RH|CO_GT_|Category|\n",
            "+-----------+-------------+------------+------------+-----------+----+----+------+--------+\n",
            "|     1360.0|       1046.0|      1056.0|      1692.0|     1268.0|13.6|48.9|   2.6|Moderate|\n",
            "|     1292.0|        955.0|      1174.0|      1559.0|      972.0|13.3|47.7|   2.0|Moderate|\n",
            "|     1402.0|        939.0|      1140.0|      1555.0|     1074.0|11.9|54.0|   2.2|Moderate|\n",
            "|     1376.0|        948.0|      1092.0|      1584.0|     1203.0|11.0|60.0|   2.2|Moderate|\n",
            "|     1272.0|        836.0|      1205.0|      1490.0|     1110.0|11.2|59.6|   1.6|    Good|\n",
            "|     1197.0|        750.0|      1337.0|      1393.0|      949.0|11.2|59.2|   1.2|    Good|\n",
            "|     1185.0|        690.0|      1462.0|      1333.0|      733.0|11.3|56.8|   1.2|    Good|\n",
            "|     1136.0|        672.0|      1453.0|      1333.0|      730.0|10.7|60.0|   1.0|    Good|\n",
            "|     1094.0|        609.0|      1579.0|      1276.0|      620.0|10.7|59.7|   0.9|    Good|\n",
            "|     1010.0|        561.0|      1705.0|      1235.0|      501.0|10.3|60.2|   0.6|    Good|\n",
            "|     1011.0|        527.0|      1818.0|      1197.0|      445.0|10.1|60.5|-200.0|    Good|\n",
            "|     1066.0|        512.0|      1918.0|      1182.0|      422.0|11.0|56.2|   0.7|    Good|\n",
            "|     1052.0|        553.0|      1738.0|      1221.0|      472.0|10.5|58.1|   0.7|    Good|\n",
            "|     1144.0|        667.0|      1490.0|      1339.0|      730.0|10.2|59.6|   1.1|    Good|\n",
            "|     1333.0|        900.0|      1136.0|      1517.0|     1102.0|10.8|57.4|   2.0|Moderate|\n",
            "|     1351.0|        960.0|      1079.0|      1583.0|     1028.0|10.5|60.6|   2.2|Moderate|\n",
            "|     1233.0|        827.0|      1218.0|      1446.0|      860.0|10.8|58.4|   1.7|    Good|\n",
            "|     1179.0|        762.0|      1328.0|      1362.0|      671.0|10.5|57.9|   1.5|    Good|\n",
            "|     1236.0|        774.0|      1301.0|      1401.0|      664.0| 9.5|66.8|   1.6|    Good|\n",
            "|     1286.0|        869.0|      1162.0|      1537.0|      799.0| 8.3|76.4|   1.9|    Good|\n",
            "+-----------+-------------+------------+------------+-----------+----+----+------+--------+\n",
            "only showing top 20 rows\n",
            "\n"
          ]
        }
      ]
    },
    {
      "cell_type": "code",
      "source": [
        "df3 = assembler.transform(df3)"
      ],
      "metadata": {
        "id": "Fcw7aZUDJXda"
      },
      "execution_count": 44,
      "outputs": []
    },
    {
      "cell_type": "code",
      "source": [
        "df3.show(2)"
      ],
      "metadata": {
        "colab": {
          "base_uri": "https://localhost:8080/"
        },
        "id": "fJ89QnNUJmM-",
        "outputId": "4bffe50e-d551-4929-bc95-2bf67cf97b96"
      },
      "execution_count": 45,
      "outputs": [
        {
          "output_type": "stream",
          "name": "stdout",
          "text": [
            "+-----------+-------------+------------+------------+-----------+----+----+------+--------+--------------------+\n",
            "|PT08_S1_CO_|PT08_S2_NMHC_|PT08_S3_NOx_|PT08_S4_NO2_|PT08_S5_O3_|   T|  RH|CO_GT_|Category|   feature_assembled|\n",
            "+-----------+-------------+------------+------------+-----------+----+----+------+--------+--------------------+\n",
            "|     1360.0|       1046.0|      1056.0|      1692.0|     1268.0|13.6|48.9|   2.6|Moderate|[1360.0,1046.0,10...|\n",
            "|     1292.0|        955.0|      1174.0|      1559.0|      972.0|13.3|47.7|   2.0|Moderate|[1292.0,955.0,117...|\n",
            "+-----------+-------------+------------+------------+-----------+----+----+------+--------+--------------------+\n",
            "only showing top 2 rows\n",
            "\n"
          ]
        }
      ]
    },
    {
      "cell_type": "code",
      "source": [
        "from pyspark.ml.feature import StringIndexer\n",
        "from pyspark.ml.classification import RandomForestClassifier\n",
        "from pyspark.ml.evaluation import MulticlassClassificationEvaluator"
      ],
      "metadata": {
        "id": "Ka63EgVLIkZM"
      },
      "execution_count": 46,
      "outputs": []
    },
    {
      "cell_type": "code",
      "source": [
        "indexer = StringIndexer(inputCol='Category',outputCol='label')"
      ],
      "metadata": {
        "id": "03DiPsLoJOHM"
      },
      "execution_count": 47,
      "outputs": []
    },
    {
      "cell_type": "code",
      "source": [
        "df4 = indexer.fit(df3).transform(df3)"
      ],
      "metadata": {
        "id": "svGgJttCKDNe"
      },
      "execution_count": 48,
      "outputs": []
    },
    {
      "cell_type": "code",
      "source": [
        "df4.show(2)"
      ],
      "metadata": {
        "colab": {
          "base_uri": "https://localhost:8080/"
        },
        "id": "TodeN4JmKukM",
        "outputId": "d47e4535-ba83-4c60-dafd-3473f467eae0"
      },
      "execution_count": 49,
      "outputs": [
        {
          "output_type": "stream",
          "name": "stdout",
          "text": [
            "+-----------+-------------+------------+------------+-----------+----+----+------+--------+--------------------+-----+\n",
            "|PT08_S1_CO_|PT08_S2_NMHC_|PT08_S3_NOx_|PT08_S4_NO2_|PT08_S5_O3_|   T|  RH|CO_GT_|Category|   feature_assembled|label|\n",
            "+-----------+-------------+------------+------------+-----------+----+----+------+--------+--------------------+-----+\n",
            "|     1360.0|       1046.0|      1056.0|      1692.0|     1268.0|13.6|48.9|   2.6|Moderate|[1360.0,1046.0,10...|  1.0|\n",
            "|     1292.0|        955.0|      1174.0|      1559.0|      972.0|13.3|47.7|   2.0|Moderate|[1292.0,955.0,117...|  1.0|\n",
            "+-----------+-------------+------------+------------+-----------+----+----+------+--------+--------------------+-----+\n",
            "only showing top 2 rows\n",
            "\n"
          ]
        }
      ]
    },
    {
      "cell_type": "code",
      "source": [
        "df4 = df4.select('feature_assembled','label')\n",
        "df4.show(2)"
      ],
      "metadata": {
        "colab": {
          "base_uri": "https://localhost:8080/"
        },
        "id": "3XwGmKypKv9a",
        "outputId": "2edd494b-fde6-409e-d28a-e8d989c6eae6"
      },
      "execution_count": 50,
      "outputs": [
        {
          "output_type": "stream",
          "name": "stdout",
          "text": [
            "+--------------------+-----+\n",
            "|   feature_assembled|label|\n",
            "+--------------------+-----+\n",
            "|[1360.0,1046.0,10...|  1.0|\n",
            "|[1292.0,955.0,117...|  1.0|\n",
            "+--------------------+-----+\n",
            "only showing top 2 rows\n",
            "\n"
          ]
        }
      ]
    },
    {
      "cell_type": "code",
      "source": [
        "train,test = df4.randomSplit([0.8,0.2],seed = 42)"
      ],
      "metadata": {
        "id": "rD-ZNPm9K5Ft"
      },
      "execution_count": 51,
      "outputs": []
    },
    {
      "cell_type": "code",
      "source": [
        "rf = RandomForestClassifier(featuresCol='feature_assembled',labelCol='label')"
      ],
      "metadata": {
        "id": "Ru4jGTaWLsfq"
      },
      "execution_count": 52,
      "outputs": []
    },
    {
      "cell_type": "code",
      "source": [
        "model = rf.fit(train)"
      ],
      "metadata": {
        "id": "XSmoyazpL3o5"
      },
      "execution_count": 53,
      "outputs": []
    },
    {
      "cell_type": "code",
      "source": [
        "pred = model.transform(test)"
      ],
      "metadata": {
        "id": "erZAEgDML7mr"
      },
      "execution_count": 54,
      "outputs": []
    },
    {
      "cell_type": "code",
      "source": [
        "evaluator = MulticlassClassificationEvaluator(labelCol=\"label\", predictionCol=\"prediction\", metricName=\"accuracy\")\n",
        "acc = evaluator.evaluate(pred)\n",
        "print(\"Classification Accuracy:\", acc)"
      ],
      "metadata": {
        "colab": {
          "base_uri": "https://localhost:8080/"
        },
        "id": "igPTQVDhMEDI",
        "outputId": "e66342c0-ee82-490d-8c2c-134ff0195e52"
      },
      "execution_count": 55,
      "outputs": [
        {
          "output_type": "stream",
          "name": "stdout",
          "text": [
            "Classification Accuracy: 0.845\n"
          ]
        }
      ]
    },
    {
      "cell_type": "code",
      "source": [],
      "metadata": {
        "id": "0z70KhEEMPWq"
      },
      "execution_count": 55,
      "outputs": []
    }
  ]
}